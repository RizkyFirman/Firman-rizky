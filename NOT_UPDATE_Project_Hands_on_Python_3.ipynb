{
  "cells": [
    {
      "cell_type": "markdown",
      "metadata": {
        "id": "qxB_hdMlbXyH"
      },
      "source": [
        "**Case study OOP with Python**\n",
        "____________\n",
        "\n",
        "\n",
        "Buatlah sebuah program untuk menghitung luas n bangun datar yang terdiri dari (Untuk nilai angka bebas):\n",
        "\n",
        "**Persegi, Persegi panjang, Segitiga, Lingkaran (gunakan 3.14 untuk nilai pi), Trapesium*\n",
        "\n",
        "Permintaan masukan harus disesuaikan dengan bangun datar yang akan dihitung luasnya, e.g. jika persegi, maka program hanya akan meminta satu masukan, i.e. sisi. Setelah didapatkan n luas bangun datar, urutkan luas bangun datar dari terkecil hingga terbesar dan hitung total luas bangun datar tersebut!\n",
        "\n",
        "\n",
        "\n",
        "\n",
        "Buatlah penyelesaian kasus tersebut dalam paradigma pemrograman berorientasi objek!"
      ]
    },
    {
      "cell_type": "code",
      "execution_count": null,
      "metadata": {
        "id": "Sz57nwcyw4Dr"
      },
      "outputs": [],
      "source": [
        "class BangunDatar:\n",
        "    def hitung_luas(self):\n",
        "        pass"
      ]
    },
    {
      "cell_type": "markdown",
      "metadata": {
        "id": "wFy9L1RfxIno"
      },
      "source": [
        "Persegi"
      ]
    },
    {
      "cell_type": "code",
      "execution_count": null,
      "metadata": {
        "id": "LYxeDWftxKD8"
      },
      "outputs": [],
      "source": [
        "class Persegi(BangunDatar):\n",
        "    def __init__(self, sisi):\n",
        "        self.sisi = sisi\n",
        "\n",
        "    def hitung_luas(self):\n",
        "        return self.sisi ** 2\n"
      ]
    },
    {
      "cell_type": "markdown",
      "metadata": {
        "id": "i8z3JBASyALC"
      },
      "source": [
        "Persegi Panjang"
      ]
    },
    {
      "cell_type": "code",
      "execution_count": null,
      "metadata": {
        "id": "3FqGN85AyCRb"
      },
      "outputs": [],
      "source": [
        "class PersegiPanjang(BangunDatar):\n",
        "    def __init__(self, panjang, lebar):\n",
        "        self.panjang = panjang\n",
        "        self.lebar = lebar\n",
        "\n",
        "    def hitung_luas(self):\n",
        "        return self.panjang * self.lebar"
      ]
    },
    {
      "cell_type": "markdown",
      "metadata": {
        "id": "CRgBawVxyk31"
      },
      "source": [
        "Segitiga"
      ]
    },
    {
      "cell_type": "code",
      "execution_count": null,
      "metadata": {
        "id": "YwuIo_j1ypK8"
      },
      "outputs": [],
      "source": [
        "class Segitiga(BangunDatar):\n",
        "    def __init__(self, alas, tinggi):\n",
        "        self.alas = alas\n",
        "        self.tinggi = tinggi\n",
        "\n",
        "    def hitung_luas(self):\n",
        "        return 0.5 * self.alas * self.tinggi"
      ]
    },
    {
      "cell_type": "markdown",
      "metadata": {
        "id": "rNnR3Ot6zRBM"
      },
      "source": [
        "Lingkaran"
      ]
    },
    {
      "cell_type": "code",
      "execution_count": null,
      "metadata": {
        "id": "jnEl9qynzSyp"
      },
      "outputs": [],
      "source": [
        "class Lingkaran(BangunDatar):\n",
        "    def __init__(self, radius):\n",
        "        self.radius = radius\n",
        "\n",
        "    def hitung_luas(self):\n",
        "        return 3,14 * self.radius ** 2"
      ]
    },
    {
      "cell_type": "markdown",
      "metadata": {
        "id": "X5HDm1Aoztuv"
      },
      "source": [
        "Trapesium"
      ]
    },
    {
      "cell_type": "code",
      "execution_count": null,
      "metadata": {
        "id": "UEBdkndRzwF9"
      },
      "outputs": [],
      "source": [
        "class Trapesium(BangunDatar):\n",
        "    def __init__(self, sisi_atas, sisi_bawah, tinggi):\n",
        "        self.sisi_atas = sisi_atas\n",
        "        self.sisi_bawah = sisi_bawah\n",
        "        self.tinggi = tinggi\n",
        "\n",
        "    def hitung_luas(self):\n",
        "        return 0.5 * (self.sisi_atas + self.sisi_bawah) * self.tinggi"
      ]
    },
    {
      "cell_type": "markdown",
      "metadata": {
        "id": "srU9IdbJ1J0d"
      },
      "source": [
        "Menghitung total luas dan mengurutkan luas bangun datar"
      ]
    },
    {
      "cell_type": "code",
      "execution_count": null,
      "metadata": {
        "id": "s7LKkSwN1RH3"
      },
      "outputs": [],
      "source": [
        "def hitung_total_urutkan_luas(bangun_datar_list):\n",
        "    luas_list = []\n",
        "\n",
        "    for bangun_datar in bangun_datar_list:\n",
        "        luas = bangun_datar.hitung_luas()\n",
        "        luas_list.append(luas)\n",
        "\n",
        "    luas_list.sort()\n",
        "    total_luas = sum(luas_list)\n",
        "\n",
        "    return luas_list, total_luas"
      ]
    },
    {
      "cell_type": "markdown",
      "metadata": {
        "id": "g3PkVne42PJv"
      },
      "source": [
        "Program"
      ]
    },
    {
      "cell_type": "code",
      "execution_count": null,
      "metadata": {
        "colab": {
          "base_uri": "https://localhost:8080/"
        },
        "id": "3k_hMWm8wCD5",
        "outputId": "146bc1eb-d1d8-4c16-b117-71ef3d3c03be"
      },
      "outputs": [
        {
          "output_type": "stream",
          "name": "stdout",
          "text": [
            "PROGRAM MENGHITUNG LUAS BANGUN DATAR\n",
            "------------------------------------\n",
            "Berikut jenis bangun datar yang tersedia:\n",
            "1. Persegi\n",
            "2. Persegi Panjang\n",
            "3. Segitiga\n",
            "4. Lingkaran\n",
            "5. Trapesium\n",
            "Masukkan jenis bangun datar pilihan: Persegi\n",
            "Masukkan panjang sisi persegi: 2\n",
            "Luas bangun datar yang dihitung (dalam urutan terkecil hingga terbesar):\n",
            "4.00\n",
            "Total luas bangun datar: 4.00\n"
          ]
        }
      ],
      "source": [
        "def main():\n",
        "  tot_bd = int(input(\"Masukkan total bangun datar: \"))\n",
        "  bangun_datar_list = []\n",
        "\n",
        "  for i in range(tot_bd):\n",
        "    print(f\"Bangun datar ke-{i+1}: \")\n",
        "\n",
        "\n",
        "print('Berikut jenis bangun datar yang tersedia:')\n",
        "print('1. Persegi')\n",
        "print('2. Persegi Panjang')\n",
        "print('3. Segitiga')\n",
        "print('4. Lingkaran')\n",
        "print('5. Trapesium')\n",
        "pilihan = input(\"Masukkan jenis bangun datar pilihan: \").lower()\n",
        "\n",
        "# Fungsi main menjalankan program\n",
        "\n",
        "if pilihan == \"persegi\":\n",
        "    sisi = float(input(\"Masukkan panjang sisi persegi: \"))\n",
        "    persegi = Persegi(sisi)\n",
        "    bangun_datar_list.append(persegi)\n",
        "elif pilihan == \"persegi panjang\":\n",
        "    panjang = float(input(\"Masukkan panjang persegi panjang: \"))\n",
        "    lebar = float(input(\"Masukkan lebar persegi panjang: \"))\n",
        "    persegi_panjang = PersegiPanjang(panjang, lebar)\n",
        "    bangun_datar_list.append(persegi_panjang)\n",
        "elif pilihan == \"segitiga\":\n",
        "    alas = float(input(\"Masukkan alas segitiga: \"))\n",
        "    tinggi = float(input(\"Masukkan tinggi segitiga: \"))\n",
        "    segitiga = Segitiga(alas, tinggi)\n",
        "    bangun_datar_list.append(segitiga)\n",
        "elif pilihan == \"lingkaran\":\n",
        "    radius = float(input(\"Masukkan panjang radius lingkaran: \"))\n",
        "    lingkaran = Lingkaran(radius)\n",
        "    bangun_datar_list.append(lingkaran)\n",
        "elif pilihan == \"trapesium\":\n",
        "    sisi_atas = float(input(\"Masukkan panjang sisi atas trapesium: \"))\n",
        "    sisi_bawah = float(input(\"Masukkan panjang sisi bawah trapesium: \"))\n",
        "    tinggi = float(input(\"Masukkan tinggi trapesium: \"))\n",
        "    trapesium = Trapesium(sisi_atas, sisi_bawah, tinggi)\n",
        "    bangun_datar_list.append(trapesium)\n",
        "elif pilihan == \"selesai\":\n",
        "   \"break\"\n",
        "else:\n",
        "    print(\"Pilihan tidak valid. Silakan pilih jenis bangun datar yang sesuai.\")\n",
        "luas_list, total_luas = hitung_total_urutkan_luas(bangun_datar_list)\n",
        "\n",
        "print(\"Luas bangun datar yang dihitung (dalam urutan terkecil hingga terbesar):\")\n",
        "for luas in luas_list:\n",
        "    print(f\"{luas:.2f}\")\n",
        "\n",
        "print(f\"Total luas bangun datar: {total_luas:.2f}\")"
      ]
    }
  ],
  "metadata": {
    "colab": {
      "provenance": []
    },
    "kernelspec": {
      "display_name": "Python 3",
      "name": "python3"
    },
    "language_info": {
      "name": "python"
    }
  },
  "nbformat": 4,
  "nbformat_minor": 0
}