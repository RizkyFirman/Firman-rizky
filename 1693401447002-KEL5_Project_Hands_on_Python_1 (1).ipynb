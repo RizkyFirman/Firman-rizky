{
  "nbformat": 4,
  "nbformat_minor": 0,
  "metadata": {
    "colab": {
      "provenance": []
    },
    "kernelspec": {
      "name": "python3",
      "display_name": "Python 3"
    },
    "language_info": {
      "name": "python"
    }
  },
  "cells": [
    {
      "cell_type": "markdown",
      "source": [
        "## **Assignment 1**"
      ],
      "metadata": {
        "id": "dWhwDT45wjcJ"
      }
    },
    {
      "cell_type": "markdown",
      "source": [
        "*Write a program to change vocal word (\"a,i,u,e,o\") into \"a\" .Example:*\n",
        "\n",
        "**Input:**\n",
        "\n",
        "lirik = \"balonku ada lima\"\n",
        "\n",
        "**Output:**\n",
        "\n",
        "\"balanka ada lama\""
      ],
      "metadata": {
        "id": "H1lLAZ7Jwrge"
      }
    },
    {
      "cell_type": "code",
      "execution_count": null,
      "metadata": {
        "colab": {
          "base_uri": "https://localhost:8080/",
          "height": 70
        },
        "id": "Q-0n-lYqu_yP",
        "outputId": "cef4579d-8ed8-45d3-d933-173f69060f46"
      },
      "outputs": [
        {
          "name": "stdout",
          "output_type": "stream",
          "text": [
            "Input lirik: balonku ada lima\n",
            "Input pengganti vocal word: a\n"
          ]
        },
        {
          "output_type": "execute_result",
          "data": {
            "text/plain": [
              "'Hasilnya adalah: balanka ada lama'"
            ],
            "application/vnd.google.colaboratory.intrinsic+json": {
              "type": "string"
            }
          },
          "metadata": {},
          "execution_count": 71
        }
      ],
      "source": [
        "kalimat = input('Input lirik: ')\n",
        "change = input ('Input pengganti vocal word: ')\n",
        "\n",
        "for huruf in 'aiueo':\n",
        "  kalimat = kalimat.replace(huruf, change)\n",
        "\n",
        "f\"Hasilnya adalah: {kalimat}\""
      ]
    },
    {
      "cell_type": "markdown",
      "source": [
        "## **Assignment 2**"
      ],
      "metadata": {
        "id": "4GMmDmhvzfcN"
      }
    },
    {
      "cell_type": "markdown",
      "source": [
        "*Write a program to check student attendance. A student will not be allowed to sit an exam if his/her attendance is less than 75%. Example:*\n",
        "\n",
        "**Input:**\n",
        "\n",
        "Class_held = 20\n",
        "\n",
        "Student = [“Asnawi”, “Haaland”, “Hazard”, “Maudy Ayunan”,  “Marselino”, “Dembele”]\n",
        "\n",
        "Class_attended = [18, 19, 10, 20, 17, 13]\n",
        "\n",
        "**Output:**\n",
        "\n",
        "Kehadiran asnawi lebih dari 75%, dapat mengikuti ujian cunin\n",
        "\n",
        "Kehadiran hazard kurang dari 75%, tidak dapat mengikuti ujian cunin\n",
        "\n",
        "Kehadiran dembele kurang dari 75%, tidak dapat mengikuti ujian cunin"
      ],
      "metadata": {
        "id": "ZVY08-a5zkFs"
      }
    },
    {
      "cell_type": "code",
      "source": [
        "Class_held = 20\n",
        "Student = [\"Asnawi\", \"Haaland\", \"Hazard\", \"Maudy Ayunan\", \"Marselino\", \"Dembele\"]\n",
        "Class_attended = [18, 19, 10, 20, 17, 13]\n",
        "\n",
        "for i in range(len(Student)):\n",
        "  attendance_percentage = (Class_attended[i] / Class_held) * 100\n",
        "\n",
        "  if attendance_percentage >= 75:\n",
        "    status = \"lebih dari 75%, dapat mengikuti ujian chunin\"\n",
        "  else:\n",
        "    status = \"kurang dari 75%, tidak dapat mengikuti ujian chunin\"\n",
        "\n",
        "  print(f\"Kehadiran {Student[i]} {status}\")"
      ],
      "metadata": {
        "colab": {
          "base_uri": "https://localhost:8080/"
        },
        "id": "5JsXUqmokUbf",
        "outputId": "71bd9615-12c9-4b3a-aea3-10087644218a"
      },
      "execution_count": null,
      "outputs": [
        {
          "output_type": "stream",
          "name": "stdout",
          "text": [
            "Kehadiran Asnawi lebih dari 75%, dapat mengikuti ujian chunin\n",
            "Kehadiran Haaland lebih dari 75%, dapat mengikuti ujian chunin\n",
            "Kehadiran Hazard kurang dari 75%, tidak dapat mengikuti ujian chunin\n",
            "Kehadiran Maudy Ayunan lebih dari 75%, dapat mengikuti ujian chunin\n",
            "Kehadiran Marselino lebih dari 75%, dapat mengikuti ujian chunin\n",
            "Kehadiran Dembele kurang dari 75%, tidak dapat mengikuti ujian chunin\n"
          ]
        }
      ]
    }
  ]
}